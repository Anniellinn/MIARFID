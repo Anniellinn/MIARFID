{
 "cells": [
  {
   "cell_type": "code",
   "execution_count": 4,
   "id": "4f6093b0",
   "metadata": {},
   "outputs": [
    {
     "data": {
      "text/plain": [
       "0.0922715574556816"
      ]
     },
     "execution_count": 4,
     "metadata": {},
     "output_type": "execute_result"
    }
   ],
   "source": [
    "max(1.8144**-4)"
   ]
  },
  {
   "cell_type": "code",
   "execution_count": 5,
   "id": "d85dd071",
   "metadata": {},
   "outputs": [
    {
     "data": {
      "text/plain": [
       "(0.05760467906393414,)"
      ]
     },
     "execution_count": 5,
     "metadata": {},
     "output_type": "execute_result"
    }
   ],
   "source": [
    "2.0412**-4,"
   ]
  }
 ],
 "metadata": {
  "kernelspec": {
   "display_name": "Python 3 (ipykernel)",
   "language": "python",
   "name": "python3"
  },
  "language_info": {
   "codemirror_mode": {
    "name": "ipython",
    "version": 3
   },
   "file_extension": ".py",
   "mimetype": "text/x-python",
   "name": "python",
   "nbconvert_exporter": "python",
   "pygments_lexer": "ipython3",
   "version": "3.10.9"
  }
 },
 "nbformat": 4,
 "nbformat_minor": 5
}
