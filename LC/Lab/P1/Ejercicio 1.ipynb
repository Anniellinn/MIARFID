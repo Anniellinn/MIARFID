{
 "cells": [
  {
   "cell_type": "markdown",
   "id": "b4b371e7",
   "metadata": {},
   "source": [
    "## Práctica 1: Ejercicio 1"
   ]
  },
  {
   "cell_type": "markdown",
   "id": "9213e20c",
   "metadata": {},
   "source": [
    "Construir un tokenizador para el español, que, dado un fichero de texto de entrada\n",
    "(entrada_tokenizador_2023.txt), separe en tokens, y los muestre en un fichero de salida en el\n",
    "formato que se muestra en (ejemplo_salida_tokenizador_2023.txt). Por lo menos el\n",
    "tokenizador deberá funcionar correctamente para el ejemplo.\n",
    "El tokenizador debe cumplir las siguientes restricciones:\n",
    "\n",
    "1) Los símbolos que hay que separar de cada palabra son: ( ) . , ‘ “ ? ¿ ! ¡ … ; :\n",
    "2) No se deben separar los números decimales, ejemplo: 44,45 45.60\n",
    "3) No se deben separar fechas 12/12/22, 12-03-23 ni horas, 9:30\n",
    "4) Las fechas en formato 12 de febrero de 2023, 12 de enero, … hay que mantenerlas\n",
    "como un token\n",
    "5) No se deben separar direcciones web http://www.colorin.com ni correos electrónicos\n",
    "xx@cdit.com\n",
    "6) Hay que mantener menciones a usuarios (@user) y hashtags (#hashtag) como se\n",
    "utilizan en Twitter.\n",
    "7) Hay que mantener acrónimos, por ejemplo: EE.UU., S.L., CC.OO., S.A., U.R.S.S, …\n",
    "8) Respetar los emoticonos\n",
    "9) Se deben conservar los tratamientos: Sr., Sra., Dr., Dra., D., Dª, …\n",
    "10) Se deben agrupar los nombres propios, asumiendo que un nombre propio es un Nombre en Mayúscula inicial y dos apellidos con mayúscula inicial: Juan Pérez Oliva"
   ]
  },
  {
   "cell_type": "code",
   "execution_count": 1,
   "id": "703cfd53",
   "metadata": {},
   "outputs": [],
   "source": [
    "import re\n",
    "import nltk"
   ]
  },
  {
   "cell_type": "markdown",
   "id": "164d185b",
   "metadata": {},
   "source": [
    "### Función para leer el fichero"
   ]
  },
  {
   "cell_type": "code",
   "execution_count": 15,
   "id": "f3253df2",
   "metadata": {},
   "outputs": [
    {
     "data": {
      "text/plain": [
       "'Sr. y Sra. López, Dª. Dolores Peris y Dr. Pérez, vengan el 12  de  abril de   2023 a las 17:30h;  si no pueden venir, nos los comunican en la  web http://www_xxx.ss.com o vienen el 14 de abril de 2023 a las 9:00h.\\nOMG 😱 No puedo creer que ya es viernes 🎉. A salir a romperla 🍻 con mis panas 💃🕺... ¡¡¡¡Que empiece el fin de semana!!!! 🤘#PorFinEsViernes #Aleluya @pepito.\\nLa caja pesa 12.5 Kg y mide 55,5 cm de largo, 35.5 cm de ancho y 40.5 cm de alto, por lo tanto, el importe del transporte es de 15,67 euros.\\nTengo ganas de cenar, pide: 4 tercios y una pizza... ah!, no te olvides del postre.\\nTodo lo que sigue son ejemplos de acrónimos que no se deberían separar: EE.UU., S.L., CC.OO., S.A., U.R.S.S., aunque también se pueden ser EEUU, SL., SA., URSS, ...\\nLa ONU fue fundada el 24 de octubre de 1945 y se encarga de mantener la paz y seguridad mundial.\\nLa OMS está trabajando arduamente para combatir la pandemia de COVID-19 en todo el mundo.\\n1 de enero, 2 de febrero, 3 de marzo, 4 de abril, 5 de mayo, 6 de junio, 7 de julio San Fermin.\\nEsta comarca tiene 1/4 de su extensión en aguam 1/2 de monatañas y el 25%  restante es de tierras cultivas, en total 12000 km2.\\nEl \"bote\" está lleno, \\'vacio\\' no \\'semi-vacio\\'.\\nD. Antonio Pérez Delgado, Dª. Maria Olivares Sempere, D. Juan Alonso Rodriguez, presentense al despacho del Sr. Director.\\nPerdón, se me olvidaba, mi correo es fpla@dsic.upv.es y la web http://users.dsic.upv.es/~fpla/  ha cambiado,  ahora es http://personales.upv.es/~fpla/ '"
      ]
     },
     "execution_count": 15,
     "metadata": {},
     "output_type": "execute_result"
    }
   ],
   "source": [
    "def leer_fichero(path):\n",
    "    with open(path,\"r\", encoding=\"utf-8\") as file:\n",
    "        q=file.read() #guardamos todo lo q hay en ese archivo y me lo devuelve\n",
    "        return q\n",
    "\n",
    "leer_fichero('C:/Users/annal/OneDrive/Escriptori/LC/Lab/P1/entrada_tokenizador_2023.txt')"
   ]
  },
  {
   "cell_type": "markdown",
   "id": "cbc0f75b",
   "metadata": {},
   "source": [
    "### Tokenizador"
   ]
  },
  {
   "cell_type": "code",
   "execution_count": 19,
   "id": "014015fa",
   "metadata": {},
   "outputs": [],
   "source": [
    "def tokenizador(fichero):\n",
    "    q = leer_fichero(fichero)\n",
    "\n",
    "    todo = r'(?:[^\\w\\s])'\n",
    "    punto=r'\\.{3}'\n",
    "    decimales = r'\\d+[.,:/]\\d+'\n",
    "    fechas2 = r'\\d+[-/]\\d+[-/]\\d+'\n",
    "    user = r'@\\w+'\n",
    "    mail = r'\\w+@\\S+'\n",
    "    hashtag = r'#\\w+'\n",
    "    fecha_mes_año = r'\\d+\\s*de\\s*\\w+\\s*de\\s*\\d+' # ponemos \\s* porque hay doble espacio entre las palanr\n",
    "    fecha_mes =r'\\d+ de \\w+'\n",
    "    fechas = r'\\d+ de.*\\d+'\n",
    "    acronimos = r'(?:[A-Z]+\\.)+'\n",
    "    url = r'http[s]?:\\/\\/[\\S]+\\/?'\n",
    "    letras = r'[\\w\\d-]+'\n",
    "    nombres= r'[A-Z]\\w+\\s[A-Z]\\w+\\s[A-Z]\\w+'\n",
    "    señor_a = r'Sra?\\.'\n",
    "    doctor_a = r'Dra?\\.'\n",
    "    don_a = r'Dª?\\.'\n",
    "\n",
    "\n",
    "    ### escribo\n",
    "    with open('salida_tokenizador.txt', 'a', encoding ='utf-8') as f:\n",
    "        # f.write('Hola mundo\\n')\n",
    "        token = []\n",
    "        patron= re.compile('|'.join([punto,mail,url,acronimos,user,fechas2,fecha_mes_año,fecha_mes,señor_a,doctor_a,don_a,decimales,hashtag,nombres,letras,todo]))\n",
    "        # print(q)\n",
    "        for linea in q.split('\\n'):\n",
    "            #print(linea)\n",
    "            f.write(\"## \"+linea+\"\\n\")\n",
    "            for l in re.findall(patron,linea):\n",
    "                f.write(l+\"\\n\")\n",
    "\n",
    "tokenizador('C:/Users/annal/OneDrive/Escriptori/LC/Lab/P1/entrada_tokenizador_2023.txt')"
   ]
  },
  {
   "cell_type": "code",
   "execution_count": null,
   "id": "4ab96305",
   "metadata": {},
   "outputs": [],
   "source": []
  }
 ],
 "metadata": {
  "kernelspec": {
   "display_name": "Python 3 (ipykernel)",
   "language": "python",
   "name": "python3"
  },
  "language_info": {
   "codemirror_mode": {
    "name": "ipython",
    "version": 3
   },
   "file_extension": ".py",
   "mimetype": "text/x-python",
   "name": "python",
   "nbconvert_exporter": "python",
   "pygments_lexer": "ipython3",
   "version": "3.10.9"
  }
 },
 "nbformat": 4,
 "nbformat_minor": 5
}
