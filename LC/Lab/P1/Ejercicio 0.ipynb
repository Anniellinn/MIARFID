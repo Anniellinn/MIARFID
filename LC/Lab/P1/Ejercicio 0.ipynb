{
 "cells": [
  {
   "cell_type": "markdown",
   "id": "ec0a9eaf",
   "metadata": {},
   "source": [
    "## Práctica 1: Ejercicio 0 Python 3.x\n",
    "\n",
    "**Objetivo**: Repaso de estructuras básicas de python (listas, tuplas, diccionarios, …) y su sintaxis.\n",
    "\n",
    "Dada la cadena:\n",
    "\n",
    "**cadena =\"El/DT perro/N come/V carne/N de/P la/DT carnicería/N y/C de/P la/DT nevera/N y/C\n",
    "canta/V el/DT la/N la/N la/N ./Fp\"**\n"
   ]
  },
  {
   "cell_type": "markdown",
   "id": "c6dae8da",
   "metadata": {},
   "source": [
    "#### 1) Obtener un diccionario, que para cada categoría, muestre su frecuencia. Ordenar el resultado alfabéticamente por categoría."
   ]
  },
  {
   "cell_type": "code",
   "execution_count": 1,
   "id": "8340982d",
   "metadata": {},
   "outputs": [],
   "source": [
    "def freq(cadena):\n",
    "    d={}\n",
    "    for i in cadena.split(' '):\n",
    "        if i.split('/')[1] not in d:\n",
    "            d[i.split('/')[1]] = 1\n",
    "\n",
    "        else: \n",
    "            d[i.split('/')[1]] += 1\n",
    "\n",
    "    return sorted(d.items())"
   ]
  },
  {
   "cell_type": "code",
   "execution_count": 2,
   "id": "2eae254a",
   "metadata": {},
   "outputs": [
    {
     "data": {
      "text/plain": [
       "[('C', 2), ('DT', 4), ('Fp', 1), ('N', 7), ('P', 2), ('V', 2)]"
      ]
     },
     "execution_count": 2,
     "metadata": {},
     "output_type": "execute_result"
    }
   ],
   "source": [
    "freq(\"El/DT perro/N come/V carne/N de/P la/DT carnicería/N y/C de/P la/DT nevera/N y/C canta/V el/DT la/N la/N la/N ./Fp\")"
   ]
  },
  {
   "cell_type": "markdown",
   "id": "7ab39e26",
   "metadata": {},
   "source": [
    "#### 2) Obtener un diccionario, que para cada palabra, muestre su frecuencia, y una lista de sus categorías morfosintácticas con su respectiva frecuencia. Mostrar el resultado ordenado alfabéticamente por palabra."
   ]
  },
  {
   "cell_type": "code",
   "execution_count": 3,
   "id": "13b57321",
   "metadata": {},
   "outputs": [],
   "source": [
    "def freq2(cadena):\n",
    "    d={}\n",
    "    s={}\n",
    "\n",
    "    for i in cadena.split(' '):\n",
    "        pal=i.split('/')\n",
    "        pal[0]=pal[0].lower() # añadimos .lower para que \"El\" y \"el\" sean la misma palabra\n",
    "\n",
    "        if pal[0] not in d:\n",
    "            d[pal[0]] = 1\n",
    "            s[pal[0]] = {pal[1]:1}\n",
    "\n",
    "        else: \n",
    "            d[pal[0]] += 1\n",
    "            if pal[1] in s[pal[0]]:\n",
    "                s[pal[0]][pal[1]]+=1\n",
    "            else: \n",
    "                s[pal[0]][pal[1]]=1\n",
    "            \n",
    "    return d,s"
   ]
  },
  {
   "cell_type": "code",
   "execution_count": 4,
   "id": "c94fbdda",
   "metadata": {},
   "outputs": [
    {
     "name": "stdout",
     "output_type": "stream",
     "text": [
      ". 1 Fp 1 \n",
      "canta 1 V 1 \n",
      "carne 1 N 1 \n",
      "carnicería 1 N 1 \n",
      "come 1 V 1 \n",
      "de 2 P 2 \n",
      "el 2 DT 2 \n",
      "la 5 DT 2 N 3 \n",
      "nevera 1 N 1 \n",
      "perro 1 N 1 \n",
      "y 2 C 2 \n"
     ]
    }
   ],
   "source": [
    "## representación\n",
    "\n",
    "d,s=freq2(\"El/DT perro/N come/V carne/N de/P la/DT carnicería/N y/C de/P la/DT nevera/N y/C canta/V el/DT la/N la/N la/N ./Fp\")\n",
    "\n",
    "for k,v in sorted(d.items()):\n",
    "    l=[]\n",
    "    for key, value in s[k].items():\n",
    "        l.append(str(key) + \" \" + str(value) + \" \")\n",
    "    print(k,v, \"\".join(l))                        "
   ]
  },
  {
   "cell_type": "markdown",
   "id": "4aad4b6c",
   "metadata": {},
   "source": [
    "#### 3) Calcular la frecuencia de los todos los bigramas de la cadena, considerar un símbolo inicial < S > y un símbolo final < /S > para la cadena."
   ]
  },
  {
   "cell_type": "code",
   "execution_count": 5,
   "id": "2146bed8",
   "metadata": {},
   "outputs": [],
   "source": [
    "cadena = \"El/DT perro/N come/V carne/N de/P la/DT carnicería/N y/C de/P la/DT nevera/N y/C canta/V el/DT la/N la/N la/N ./Fp\"\n",
    "\n",
    "def freq_bigramas(cadena):\n",
    "    string = [i.split('/')[1] for i in cadena.split(' ')]\n",
    "\n",
    "    bigramas = []\n",
    "\n",
    "    for i in range(0,len(string)): \n",
    "\n",
    "        if i==0: \n",
    "            ant='<S>'\n",
    "            bigramas.append((ant,string[i]))\n",
    "\n",
    "\n",
    "        elif i==len(string)-1:            \n",
    "            bigramas.append((ant,string[i]))\n",
    "            bigramas.append((string[i], '</S>'))\n",
    "\n",
    "        else: \n",
    "            bigramas.append((ant,string[i])) \n",
    "        ant=string[i]\n",
    "\n",
    "    d={}\n",
    "    for i in bigramas: \n",
    "        if i not in d:\n",
    "            d[i]=1\n",
    "        else: \n",
    "            d[i]+=1\n",
    "            \n",
    "    return d\n",
    "\n",
    "        "
   ]
  },
  {
   "cell_type": "code",
   "execution_count": 6,
   "id": "62210199",
   "metadata": {},
   "outputs": [
    {
     "name": "stdout",
     "output_type": "stream",
     "text": [
      "('<S>', 'DT') 1\n",
      "('DT', 'N') 4\n",
      "('N', 'V') 1\n",
      "('V', 'N') 1\n",
      "('N', 'P') 1\n",
      "('P', 'DT') 2\n",
      "('N', 'C') 2\n",
      "('C', 'P') 1\n",
      "('C', 'V') 1\n",
      "('V', 'DT') 1\n",
      "('N', 'N') 2\n",
      "('N', 'Fp') 1\n",
      "('Fp', '</S>') 1\n"
     ]
    }
   ],
   "source": [
    "## representación\n",
    "b=freq_bigramas(cadena)\n",
    "\n",
    "for k,v in b.items():\n",
    "    print(k,v)"
   ]
  },
  {
   "cell_type": "markdown",
   "id": "cd4c7d21",
   "metadata": {},
   "source": [
    "#### 4) Construir una función que devuelva las probabilidades léxicas P(C|w) y de emisión P(w|C) para una palabra dada (w) para todas sus categorías (C) que aparecen en el diccionario construido anteriormente. Si la palabra no existe en el diccionario debedecir que la palabra es desconocida."
   ]
  },
  {
   "cell_type": "code",
   "execution_count": 10,
   "id": "cf1e39cb",
   "metadata": {},
   "outputs": [],
   "source": [
    "def probabilidades(pal,d,s,c):\n",
    "    \n",
    "    if pal not in d.keys():\n",
    "        print('Palabra desconocida.')\n",
    "        \n",
    "    else:\n",
    "        for k,v in s[pal].items(): # k es la categoria, v es la frecuencia \n",
    "            for i in c:\n",
    "                if i[0]==k:\n",
    "\n",
    "                    print(f'P({k}|{pal}) = {v/d[pal]}')\n",
    "                    print(f'P({pal}|{k}) = {v/i[1]}')"
   ]
  },
  {
   "cell_type": "code",
   "execution_count": 19,
   "id": "cb25f43e",
   "metadata": {},
   "outputs": [
    {
     "name": "stdout",
     "output_type": "stream",
     "text": [
      "Escriba la palabra: la\n",
      "P(DT|la) = 0.4\n",
      "P(la|DT) = 0.5\n",
      "P(N|la) = 0.6\n",
      "P(la|N) = 0.42857142857142855\n"
     ]
    }
   ],
   "source": [
    "cadena=\"El/DT perro/N come/V carne/N de/P la/DT carnicería/N y/C de/P la/DT nevera/N y/C canta/V el/DT la/N la/N la/N ./Fp\"\n",
    "\n",
    "d,s = freq2(cadena)\n",
    "c = freq(cadena)\n",
    "    \n",
    "palabra=input(\"Escriba la palabra: \")\n",
    "\n",
    "probabilidades(palabra,d,s,c)"
   ]
  }
 ],
 "metadata": {
  "kernelspec": {
   "display_name": "Python 3 (ipykernel)",
   "language": "python",
   "name": "python3"
  },
  "language_info": {
   "codemirror_mode": {
    "name": "ipython",
    "version": 3
   },
   "file_extension": ".py",
   "mimetype": "text/x-python",
   "name": "python",
   "nbconvert_exporter": "python",
   "pygments_lexer": "ipython3",
   "version": "3.10.9"
  }
 },
 "nbformat": 4,
 "nbformat_minor": 5
}
