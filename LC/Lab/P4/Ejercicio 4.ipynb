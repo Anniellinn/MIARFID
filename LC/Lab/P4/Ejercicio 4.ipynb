{
 "cells": [
  {
   "cell_type": "markdown",
   "id": "1e9fea4a",
   "metadata": {},
   "source": [
    "# Ejercicio 4. WSD\n",
    "\n",
    "\n",
    "Referencias: http://www.nltk.org/book/ch02.html (punto\t5)\n",
    "1) Implementar,\t usando\t NLTK\t y\t Python,\t el\t algoritmo\t de\t Lesk simplificado\t para\tdesambiguar\tel\t sentido\t de\tlas\t palabras\t (WSD).\t La\t función\t recibirá\t una\t palabra\t y\t\n",
    "una\t frase\tque\tla\tcontenga\ty\tdecidirá\tel\tmejor\tsentido\tpara\tesa\tpalabra.\tLas\t frases\t\n",
    "serán\ten\tinglés\t y\t se\t deberá\teliminar\tde\tla\t frase, de\tla\tglosa\t y de\tlos ejemplos\t de\t\n",
    "cada\tsentido\tlas\t‘stopwords’.\n",
    "\n",
    "\n",
    "EJEMPLO:\n",
    "\n",
    "Sentence:\t“Yesterday\tI\twent to\tthe\tbank to withdraw the\tmoney and the\tcredit\tcard\n",
    "did\tnot\twork”\n",
    "\n",
    "Word:\tbank"
   ]
  },
  {
   "cell_type": "code",
   "execution_count": 2,
   "id": "1efdfbd2",
   "metadata": {},
   "outputs": [
    {
     "name": "stderr",
     "output_type": "stream",
     "text": [
      "[nltk_data] Downloading package wordnet to\n",
      "[nltk_data]     C:\\Users\\annal\\AppData\\Roaming\\nltk_data...\n",
      "[nltk_data]   Package wordnet is already up-to-date!\n",
      "[nltk_data] Downloading package stopwords to\n",
      "[nltk_data]     C:\\Users\\annal\\AppData\\Roaming\\nltk_data...\n",
      "[nltk_data]   Package stopwords is already up-to-date!\n",
      "[nltk_data] Downloading package punkt to\n",
      "[nltk_data]     C:\\Users\\annal\\AppData\\Roaming\\nltk_data...\n",
      "[nltk_data]   Package punkt is already up-to-date!\n"
     ]
    },
    {
     "data": {
      "text/plain": [
       "True"
      ]
     },
     "execution_count": 2,
     "metadata": {},
     "output_type": "execute_result"
    }
   ],
   "source": [
    "import nltk\n",
    "nltk.download('wordnet')\n",
    "nltk.download('stopwords')\n",
    "nltk.download('punkt')"
   ]
  },
  {
   "cell_type": "markdown",
   "id": "7bd68b0d",
   "metadata": {},
   "source": [
    "### Importamos la librería NLTK"
   ]
  },
  {
   "cell_type": "code",
   "execution_count": 47,
   "id": "dfa2af87",
   "metadata": {},
   "outputs": [],
   "source": [
    "from nltk.corpus import wordnet\n",
    "from nltk.corpus import stopwords\n",
    "from nltk.tokenize import word_tokenize\n",
    "from nltk.wsd import lesk\n",
    "import re"
   ]
  },
  {
   "cell_type": "code",
   "execution_count": 87,
   "id": "e37f8c78",
   "metadata": {},
   "outputs": [],
   "source": [
    "def preprocess_text(text):\n",
    "    text = text.lower()  # convertir a minúsculas\n",
    "    patron = r'[(+*)-.,:;¿?<>!\\'\"]'\n",
    "    text2= re.sub(patron, ' ', text)# eliminar carácteres especiales para que no los tenga en cuenta como tokens \n",
    "    tokens = word_tokenize(text2)  # tokenizar el texto\n",
    "    stop_words = set(stopwords.words('english'))\n",
    "    filtered_tokens = [word for word in tokens if word not in stop_words] # eliminar las stopwords\n",
    "   \n",
    "    return filtered_tokens\n"
   ]
  },
  {
   "cell_type": "code",
   "execution_count": 94,
   "id": "11e07ee2",
   "metadata": {},
   "outputs": [],
   "source": [
    "def simplified_lesk(word, sentence):\n",
    "    best_sense = None # las palabras con mismo nombre pero diferentes significados dependiendo del contexto\n",
    "    max_overlap = 0 \n",
    "    \n",
    "    sentence = preprocess_text(sentence) # procesar la frase\n",
    "    \n",
    "    for sense in wordnet.synsets(word):\n",
    "        gloss = sense.definition()\n",
    "        gloss = preprocess_text(gloss) # eliminar las stopwords de la glosa\n",
    "\n",
    "        examples = sense.examples()\n",
    "        examples = [preprocess_text(ex) for ex in examples] # eliminar las stop words de los ejemplos\n",
    "\n",
    "        s = set(gloss + [word]) # conjunto del glosa y la palabra\n",
    "        intersection = s.intersection(sentence) # intersección de las definiciones y la frase\n",
    "        overlap_sense = len(intersection) \n",
    "        \n",
    "        overlap_examples = sum(len(set(ex).intersection(sentence)) for ex in examples) #intersección ejemplos y frase\n",
    "        \n",
    "        overlap = overlap_sense+overlap_examples\n",
    "        \n",
    "        if overlap > max_overlap: # actualizar el mejor significado si se encuentra uno con un overlap superior\n",
    "            max_overlap = overlap\n",
    "            best_sense = sense\n",
    "\n",
    "    return best_sense"
   ]
  },
  {
   "cell_type": "code",
   "execution_count": 154,
   "id": "c162a388",
   "metadata": {},
   "outputs": [
    {
     "name": "stdout",
     "output_type": "stream",
     "text": [
      "Word: bank\n",
      "Best Sense: Synset('depository_financial_institution.n.01')\n",
      "Definition: a financial institution that accepts deposits and channels the money into lending activities\n"
     ]
    }
   ],
   "source": [
    "## EJEMPLO:\n",
    "\n",
    "sentence = \"Yesterday I went to the bank to withdraw the money and the credit card did not work\"\n",
    "word = \"bank\"\n",
    "\n",
    "sense = simplified_lesk(word, sentence)\n",
    "\n",
    "if sense is not None:\n",
    "    print(f\"Word: {word}\")\n",
    "    print(f\"Best Sense: {sense}\")\n",
    "    print(f\"Definition: {sense.definition()}\")\n",
    "else:\n",
    "    print(\"No sense found\")\n"
   ]
  },
  {
   "cell_type": "markdown",
   "id": "db49c9e5",
   "metadata": {},
   "source": [
    "2) Implementar\tun algoritmo\tsimilar\tpara\tla\tdesambiguación\tsemántica\tutilizando\t\n",
    "Word\tEmbeddings\ty\tuna\tdistancia\tde\tsimilitud\tsemántica\tcomo\tla\tdistancia\tcoseno\t"
   ]
  },
  {
   "cell_type": "code",
   "execution_count": 125,
   "id": "4245eb2b",
   "metadata": {},
   "outputs": [],
   "source": [
    "from nltk.data import find\n",
    "import gensim\n",
    "\n",
    "# Cargar el modelo de embeding pre-entrenados del NLTK\n",
    "word2vec_sample = str(find('models/word2vec_sample/pruned.word2vec.txt'))\n",
    "model = gensim.models.KeyedVectors.load_word2vec_format(word2vec_sample, binary=False)\n"
   ]
  },
  {
   "cell_type": "code",
   "execution_count": 157,
   "id": "766643a6",
   "metadata": {},
   "outputs": [],
   "source": [
    "def wsd_embeddings(word, sentence):\n",
    "    best_sense = None\n",
    "    max_similarity = 0\n",
    "\n",
    "    sentence_tokens = preprocess_text(sentence) # procesar la frase en tokens\n",
    "    try:\n",
    "        for token in sentence_tokens:\n",
    "            if token in model and token!=word: # si la palabra del contexto está en el modelo \n",
    "                similarity = model.similarity(word, token) # distancia coseno\n",
    "\n",
    "                if similarity > max_similarity:\n",
    "                    max_similarity = similarity\n",
    "                    best_sense = token\n",
    "                    \n",
    "\n",
    "        return best_sense\n",
    "    \n",
    "    except: # si la palabra no está en el modelo\n",
    "        print(f'Word:{word} not in the model')\n",
    "        return None"
   ]
  },
  {
   "cell_type": "code",
   "execution_count": 158,
   "id": "f66dfe43",
   "metadata": {},
   "outputs": [
    {
     "name": "stdout",
     "output_type": "stream",
     "text": [
      "Word: bank\n",
      "Best Sense: credit\n"
     ]
    }
   ],
   "source": [
    "## EJEMPLO:\n",
    "sentence = \"Yesterday I went to the bank to withdraw the money and the credit card did not work\"\n",
    "word = \"bank\"\n",
    "\n",
    "sense = wsd_embeddings(word, sentence)\n",
    "print(f\"Word: {word}\")\n",
    "print(f\"Best Sense: {sense}\")\n"
   ]
  }
 ],
 "metadata": {
  "kernelspec": {
   "display_name": "Python 3 (ipykernel)",
   "language": "python",
   "name": "python3"
  },
  "language_info": {
   "codemirror_mode": {
    "name": "ipython",
    "version": 3
   },
   "file_extension": ".py",
   "mimetype": "text/x-python",
   "name": "python",
   "nbconvert_exporter": "python",
   "pygments_lexer": "ipython3",
   "version": "3.10.9"
  }
 },
 "nbformat": 4,
 "nbformat_minor": 5
}
