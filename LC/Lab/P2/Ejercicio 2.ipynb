{
 "cells": [
  {
   "cell_type": "markdown",
   "id": "60230d53",
   "metadata": {},
   "source": [
    "## Ejercicio 2: Python y NLTK. POS tagging"
   ]
  },
  {
   "cell_type": "markdown",
   "id": "db3c0645",
   "metadata": {},
   "source": [
    "Objetivo: Uso de NLTK y Python. Procesamiento de corpus, POS tagging.\n",
    "Referencias: \n",
    "http://www.nltk.org/\n",
    "http://www.python.org/ \n",
    "1. Procesamiento del corpus cess_esp anotado con información morfosintáctica.\n",
    "\n",
    "        • Descargar corpus usando NLTK.\n",
    "        • Procesar el corpus para transformar la anotación de las etiquetas originales \n",
    "        (289 etiquetas) a un conjunto reducido (66 etiquetas). Para realizar esta \n",
    "        transformación utilizar los siguientes criterios: todas las etiquetas serán de \n",
    "        longitud igual a 2 por defecto, salvo los verbos (v) y los signos de puntuación \n",
    "        (F) que pueden ser de tres. También pueden existir etiquetas de longitud =1. \n",
    "        En el conjunto transformado también se deben eliminar anotaciones de la \n",
    "        forma: (u'*0*', u'sn'). \n",
    "        • Nota: para entender el significado de las etiquetas se puede consultar el \n",
    "        siguiente enlace: \n",
    "        https://freeling-user-manual.readthedocs.io/en/latest/tagsets/\n",
    "        • Dividir el corpus en dos partes: training (el 90% de las primeras frases) y de \n",
    "        test (el 10% restante)"
   ]
  },
  {
   "cell_type": "markdown",
   "id": "55eee5b7",
   "metadata": {},
   "source": [
    "### Carga del corpus"
   ]
  },
  {
   "cell_type": "code",
   "execution_count": 1,
   "id": "a3a7a695",
   "metadata": {},
   "outputs": [],
   "source": [
    "import nltk "
   ]
  },
  {
   "cell_type": "code",
   "execution_count": 2,
   "id": "a1083a7d",
   "metadata": {},
   "outputs": [],
   "source": [
    "from nltk.corpus import cess_esp"
   ]
  },
  {
   "cell_type": "code",
   "execution_count": 3,
   "id": "6a9f4aa1",
   "metadata": {},
   "outputs": [],
   "source": [
    "corpus_sentences=cess_esp.tagged_sents() # extraemos las oraciones etiquetadas"
   ]
  },
  {
   "cell_type": "markdown",
   "id": "13f375b5",
   "metadata": {},
   "source": [
    "#### Transformar la anotación de las etiquetas originales (289 etiquetas) a un conjunto reducido (66 etiquetas)"
   ]
  },
  {
   "cell_type": "code",
   "execution_count": 3,
   "id": "8d85b62b",
   "metadata": {},
   "outputs": [
    {
     "name": "stdout",
     "output_type": "stream",
     "text": [
      "Número de frases: 6030\n",
      "Número de palabras: 192686\n",
      "[[('El', 'da0ms0'), ('grupo', 'ncms000'), ('estatal', 'aq0cs0'), ('Electricité_de_France', 'np00000'), ('-Fpa-', 'Fpa'), ('EDF', 'np00000'), ('-Fpt-', 'Fpt'), ('anunció', 'vmis3s0'), ('hoy', 'rg'), (',', 'Fc'), ('jueves', 'W'), (',', 'Fc'), ('la', 'da0fs0'), ('compra', 'ncfs000'), ('del', 'spcms'), ('51_por_ciento', 'Zp'), ('de', 'sps00'), ('la', 'da0fs0'), ('empresa', 'ncfs000'), ('mexicana', 'aq0fs0'), ('Electricidad_Águila_de_Altamira', 'np00000'), ('-Fpa-', 'Fpa'), ('EAA', 'np00000'), ('-Fpt-', 'Fpt'), (',', 'Fc'), ('creada', 'aq0fsp'), ('por', 'sps00'), ('el', 'da0ms0'), ('japonés', 'aq0ms0'), ('Mitsubishi_Corporation', 'np00000'), ('para', 'sps00'), ('poner_en_marcha', 'vmn0000'), ('una', 'di0fs0'), ('central', 'ncfs000'), ('de', 'sps00'), ('gas', 'ncms000'), ('de', 'sps00'), ('495', 'Z'), ('megavatios', 'ncmp000'), ('.', 'Fp')], [('Una', 'di0fs0'), ('portavoz', 'nccs000'), ('de', 'sps00'), ('EDF', 'np00000'), ('explicó', 'vmis3s0'), ('a', 'sps00'), ('EFE', 'np00000'), ('que', 'cs'), ('el', 'da0ms0'), ('proyecto', 'ncms000'), ('para', 'sps00'), ('la', 'da0fs0'), ('construcción', 'ncfs000'), ('de', 'sps00'), ('Altamira_2', 'np00000'), (',', 'Fc'), ('al', 'spcms'), ('norte', 'ncms000'), ('de', 'sps00'), ('Tampico', 'np00000'), (',', 'Fc'), ('prevé', 'vmm02s0'), ('la', 'da0fs0'), ('utilización', 'ncfs000'), ('de', 'sps00'), ('gas', 'ncms000'), ('natural', 'aq0cs0'), ('como', 'cs'), ('combustible', 'ncms000'), ('principal', 'aq0cs0'), ('en', 'sps00'), ('una', 'di0fs0'), ('central', 'ncfs000'), ('de', 'sps00'), ('ciclo', 'ncms000'), ('combinado', 'aq0msp'), ('que', 'pr0cn000'), ('debe', 'vmip3s0'), ('empezar', 'vmn0000'), ('a', 'sps00'), ('funcionar', 'vmn0000'), ('en', 'sps00'), ('mayo_del_2002', 'W'), ('.', 'Fp')]]\n"
     ]
    }
   ],
   "source": [
    "corpus_sentences=cess_esp.tagged_sents() # extraemos las oraciones etiquetadas\n",
    "number_sentences=len(corpus_sentences)\n",
    "print ('Número de frases:',number_sentences)\n",
    "nw=0;\n",
    "for s in range (len(corpus_sentences)):\n",
    "    nw=nw+len(corpus_sentences[s])\n",
    "\n",
    "print ('Número de palabras:',nw)\n",
    "\n",
    "print(corpus_sentences[0:2]) # muestro las 2 primeras oraciones del corpus etiquetado"
   ]
  },
  {
   "cell_type": "code",
   "execution_count": 4,
   "id": "eb6940a5",
   "metadata": {},
   "outputs": [],
   "source": [
    "def rename(x):\n",
    "    if x.startswith(\"v\") or x.startswith(\"F\"): #Si la etiqueta es de un verbo o signo de\n",
    "        return x[:min(len(x),3)] #longitud máxima puede ser 3\n",
    "    \n",
    "    else: #Cualquier otra etiqueta long max\n",
    "        return x[:min(len(x),2)] # por defecto, para lo demás la long máx es 2"
   ]
  },
  {
   "cell_type": "code",
   "execution_count": 5,
   "id": "d2c41a45",
   "metadata": {},
   "outputs": [],
   "source": [
    "newsentences=[]\n",
    "for sentence in corpus_sentences:\n",
    "    newsent=[(x[0], rename(x[1])) for x in sentence if not(x[1] in (u'*0*',u'sn'))] # elimino este tipo de etiquetas porque directamente las omito\n",
    "    newsentences.append(newsent)"
   ]
  },
  {
   "cell_type": "code",
   "execution_count": 6,
   "id": "a5823131",
   "metadata": {
    "scrolled": false
   },
   "outputs": [
    {
     "name": "stdout",
     "output_type": "stream",
     "text": [
      "[[('El', 'da'), ('grupo', 'nc'), ('estatal', 'aq'), ('Electricité_de_France', 'np'), ('-Fpa-', 'Fpa'), ('EDF', 'np'), ('-Fpt-', 'Fpt'), ('anunció', 'vmi'), ('hoy', 'rg'), (',', 'Fc'), ('jueves', 'W'), (',', 'Fc'), ('la', 'da'), ('compra', 'nc'), ('del', 'sp'), ('51_por_ciento', 'Zp'), ('de', 'sp'), ('la', 'da'), ('empresa', 'nc'), ('mexicana', 'aq'), ('Electricidad_Águila_de_Altamira', 'np'), ('-Fpa-', 'Fpa'), ('EAA', 'np'), ('-Fpt-', 'Fpt'), (',', 'Fc'), ('creada', 'aq'), ('por', 'sp'), ('el', 'da'), ('japonés', 'aq'), ('Mitsubishi_Corporation', 'np'), ('para', 'sp'), ('poner_en_marcha', 'vmn'), ('una', 'di'), ('central', 'nc'), ('de', 'sp'), ('gas', 'nc'), ('de', 'sp'), ('495', 'Z'), ('megavatios', 'nc'), ('.', 'Fp')], [('Una', 'di'), ('portavoz', 'nc'), ('de', 'sp'), ('EDF', 'np'), ('explicó', 'vmi'), ('a', 'sp'), ('EFE', 'np'), ('que', 'cs'), ('el', 'da'), ('proyecto', 'nc'), ('para', 'sp'), ('la', 'da'), ('construcción', 'nc'), ('de', 'sp'), ('Altamira_2', 'np'), (',', 'Fc'), ('al', 'sp'), ('norte', 'nc'), ('de', 'sp'), ('Tampico', 'np'), (',', 'Fc'), ('prevé', 'vmm'), ('la', 'da'), ('utilización', 'nc'), ('de', 'sp'), ('gas', 'nc'), ('natural', 'aq'), ('como', 'cs'), ('combustible', 'nc'), ('principal', 'aq'), ('en', 'sp'), ('una', 'di'), ('central', 'nc'), ('de', 'sp'), ('ciclo', 'nc'), ('combinado', 'aq'), ('que', 'pr'), ('debe', 'vmi'), ('empezar', 'vmn'), ('a', 'sp'), ('funcionar', 'vmn'), ('en', 'sp'), ('mayo_del_2002', 'W'), ('.', 'Fp')], [('La', 'da'), ('electricidad', 'nc'), ('producida', 'aq'), ('pasará', 'vmi'), ('a', 'sp'), ('la', 'da'), ('red', 'nc'), ('eléctrica', 'aq'), ('pública', 'aq'), ('de', 'sp'), ('México', 'np'), ('en_virtud_de', 'sp'), ('un', 'di'), ('acuerdo', 'nc'), ('de', 'sp'), ('venta', 'nc'), ('de', 'sp'), ('energía', 'nc'), ('de', 'sp'), ('EAA', 'np'), ('con', 'sp'), ('la', 'da'), ('Comisión_Federal_de_Electricidad', 'np'), ('-Fpa-', 'Fpa'), ('CFE', 'np'), ('-Fpt-', 'Fpt'), ('por', 'sp'), ('una', 'di'), ('duración', 'nc'), ('de', 'sp'), ('25', 'Z'), ('años', 'nc'), ('.', 'Fp')], [('EDF', 'np'), (',', 'Fc'), ('que', 'pr'), ('no', 'rn'), ('quiso', 'vmi'), ('revelar', 'vmn'), ('cuánto', 'pt'), ('*0*', 'sn'), ('pagó', 'vmi'), ('por', 'sp'), ('su', 'dp'), ('participación', 'nc'), ('mayoritaria', 'aq'), ('en', 'sp'), ('EAA', 'np'), (',', 'Fc'), ('intervendrá', 'vmi'), ('como', 'cs'), ('asistente', 'nc'), ('en', 'sp'), ('la', 'da'), ('construcción', 'nc'), ('de', 'sp'), ('Altamira_2', 'np'), ('y', 'cc'), (',', 'Fc'), ('posteriormente', 'rg'), (',', 'Fc'), ('*0*', 'sn'), ('se', 'p0'), ('encargará', 'vmi'), ('de', 'sp'), ('explotarla', 'vmn'), ('como', 'cs'), ('principal', 'aq'), ('accionista', 'aq'), ('.', 'Fp')], [('EDF', 'np'), ('y', 'cc'), ('Mitsubishi', 'np'), ('participaron', 'vmi'), ('en', 'sp'), ('1998', 'W'), ('en', 'sp'), ('la', 'da'), ('licitación', 'nc'), ('de', 'sp'), ('licencias', 'nc'), ('para', 'sp'), ('construir', 'vmn'), ('centrales', 'nc'), ('eléctricas', 'aq'), ('en', 'sp'), ('México', 'np'), ('y', 'cc'), ('*0*', 'sn'), ('se', 'p0'), ('quedaron', 'vmi'), ('con', 'sp'), ('dos', 'pn'), ('cada', 'di'), ('una', 'pi'), (':', 'Fd'), ('Río_Bravo', 'np'), ('y', 'cc'), ('Saltillo', 'np'), ('para', 'sp'), ('la', 'da'), ('compañía', 'nc'), ('francesa', 'aq'), ('y', 'cc'), ('Altamira', 'np'), ('y', 'cc'), ('Tuxpán', 'np'), ('para', 'sp'), ('la', 'da'), ('japonesa', 'aq'), ('.', 'Fp')], [('EDF', 'np'), ('tiene', 'vmi'), ('previsto', 'aq'), ('invertir', 'vmn'), ('194', 'Z'), ('millones', 'nc'), ('de', 'sp'), ('euros', 'Zm'), ('-Fpa-', 'Fpa'), ('186', 'Z'), ('millones', 'nc'), ('de', 'sp'), ('dólares', 'Zm'), ('-Fpt-', 'Fpt'), ('en', 'sp'), ('la', 'da'), ('central', 'nc'), ('de', 'sp'), ('Río_Bravo', 'np'), (',', 'Fc'), ('con', 'sp'), ('una', 'di'), ('potencia', 'nc'), ('de', 'sp'), ('495', 'Z'), ('megavatios', 'nc'), (',', 'Fc'), ('y', 'cc'), ('134', 'Z'), ('millones', 'nc'), ('de', 'sp'), ('euros', 'Zm'), ('-Fpa-', 'Fpa'), ('28', 'Z'), ('millones', 'nc'), ('de', 'sp'), ('dólares', 'Zm'), ('-Fpt-', 'Fpt'), ('en', 'sp'), ('Saltillo', 'np'), (',', 'Fc'), ('que', 'pr'), ('como', 'cs'), ('la', 'da'), ('primera', 'ao'), ('funcionará', 'vmi'), ('con', 'sp'), ('gas', 'nc'), ('natural', 'aq'), ('y', 'cc'), ('cuya', 'pr'), ('potencia', 'nc'), ('prevista', 'aq'), ('es', 'vsi'), ('de', 'sp'), ('247', 'Z'), ('megavatios', 'nc'), ('.', 'Fp')], [('La', 'da'), ('alcaldesa', 'nc'), ('de', 'sp'), ('Málaga', 'np'), ('y', 'cc'), ('cabeza', 'nc'), ('de', 'sp'), ('lista', 'nc'), ('del', 'sp'), ('PP', 'np'), ('al', 'sp'), ('Congreso', 'np'), ('por', 'sp'), ('esta', 'dd'), ('provincia', 'nc'), (',', 'Fc'), ('Celia_Villalobos', 'np'), (',', 'Fc'), ('pidió', 'vmi'), ('hoy', 'rg'), ('a', 'sp'), ('los', 'da'), ('militantes', 'nc'), ('de', 'sp'), ('esta', 'dd'), ('formación', 'nc'), ('que', 'cs'), ('*0*', 'sn'), ('sepan', 'vms'), ('\"', 'Fe'), ('administrar', 'vmn'), ('la', 'da'), ('victoria', 'nc'), ('\"', 'Fe'), (',', 'Fc'), ('porque', 'cs'), ('\"', 'Fe'), ('no', 'rn'), ('vale', 'vmi'), ('la', 'da'), ('revancha', 'nc'), (',', 'Fc'), ('el', 'da'), ('insulto', 'nc'), ('o', 'cc'), ('el', 'da'), ('ataque', 'nc'), (',', 'Fc'), ('eso', 'pd'), ('es', 'vsi'), ('para', 'sp'), ('ellos', 'pp'), ('\"', 'Fe'), ('.', 'Fp')], [('En', 'sp'), ('una', 'di'), ('intervención', 'nc'), ('ante', 'sp'), ('militantes', 'nc'), ('populares', 'aq'), ('en', 'sp'), ('el', 'da'), ('hotel', 'nc'), ('de', 'sp'), ('la', 'da'), ('capital', 'nc'), ('malagueña', 'aq'), ('elegido', 'aq'), ('como', 'cs'), ('sede', 'nc'), ('de', 'sp'), ('la', 'da'), ('noche', 'nc'), ('electoral', 'aq'), ('del', 'sp'), ('PP', 'np'), (',', 'Fc'), ('Villalobos', 'np'), ('dio', 'vmi'), ('las', 'da'), ('gracias', 'nc'), ('\"', 'Fe'), ('a', 'sp'), ('los', 'da'), ('militantes', 'nc'), ('de', 'sp'), ('muchos', 'di'), ('años', 'nc'), ('que', 'pr'), ('hoy', 'rg'), ('tienen', 'vmi'), ('una', 'di'), ('emoción', 'nc'), ('especial', 'aq'), ('\"', 'Fe'), (',', 'Fc'), ('y', 'cc'), ('*0*', 'sn'), ('se', 'p0'), ('confesó', 'vmi'), ('también', 'rg'), ('\"', 'Fe'), ('especialmente', 'rg'), ('emocionada', 'aq'), ('\"', 'Fe'), ('en', 'sp'), ('sus', 'dp'), ('quintas', 'ao'), ('elecciones', 'nc'), ('generales', 'aq'), ('.', 'Fp')], [('La', 'da'), ('diputada', 'nc'), ('electa', 'aq'), ('transmitió', 'vmi'), ('\"', 'Fe'), ('un', 'di'), ('abrazo', 'nc'), ('y', 'cc'), ('mi', 'dp'), ('cariño', 'nc'), ('a', 'sp'), ('José_María_Aznar', 'np'), ('\"', 'Fe'), (',', 'Fc'), ('a', 'sp'), ('quien', 'pr'), ('*0*', 'sn'), ('definió', 'vmi'), ('como', 'cs'), ('\"', 'Fe'), ('el', 'da'), ('hombre', 'nc'), ('que', 'pr'), ('ha', 'vai'), ('sabido', 'vmp'), ('llevar', 'vmn'), ('al', 'sp'), ('PP', 'np'), ('hasta', 'sp'), ('la', 'da'), ('victoria', 'nc'), ('\"', 'Fe'), (',', 'Fc'), ('y', 'cc'), ('*0*', 'sn'), ('dio', 'vmi'), ('las', 'da'), ('gracias', 'nc'), ('a', 'sp'), ('la', 'da'), ('\"', 'Fe'), ('gente', 'nc'), ('que', 'pr'), ('ha', 'vai'), ('sabido', 'vmp'), ('ilusionar', 'vmn'), ('y', 'cc'), ('convencer', 'vmn'), ('a', 'sp'), ('muchos', 'di'), ('para', 'sp'), ('que', 'cs'), ('*0*', 'sn'), ('apuesten', 'vms'), ('\"', 'Fe'), ('por', 'sp'), ('este', 'dd'), ('partido', 'nc'), ('.', 'Fp')], [('A', 'sp'), ('todas', 'di'), ('estas', 'dd'), ('personas', 'nc'), ('\"', 'Fe'), ('*0*', 'sn'), ('no', 'rn'), ('las', 'pp'), ('vamos', 'vmi'), ('a', 'sp'), ('defraudar', 'vmn'), ('\"', 'Fe'), (',', 'Fc'), ('aseguró', 'vmi'), ('Villalobos', 'np'), (',', 'Fc'), ('que', 'pr'), ('subrayó', 'vmi'), ('que', 'cs'), ('Aznar', 'np'), ('\"', 'Fe'), ('seguirá', 'vmi'), ('gobernando', 'vmg'), ('desde', 'sp'), ('el', 'da'), ('diálogo', 'nc'), (',', 'Fc'), ('sin', 'sp'), ('prepotencia', 'nc'), (',', 'Fc'), ('con', 'sp'), ('honradez', 'nc'), ('y', 'cc'), ('preocupado', 'aq'), ('por', 'sp'), ('los', 'da'), ('problemas', 'nc'), (',', 'Fc'), ('y', 'cc'), ('*0*', 'sn'), ('seguiremos', 'vmi'), ('siendo', 'vsg'), ('los', 'da'), ('mismos', 'pi'), ('\"', 'Fe'), ('.', 'Fp')], [('*0*', 'sn'), ('Destacó', 'vmi'), ('que', 'cs'), ('\"', 'Fe'), ('por_fin', 'rg'), ('\"', 'Fe'), ('el', 'da'), ('PP', 'np'), ('ha', 'vai'), ('ganado', 'vmp'), ('en', 'sp'), ('la', 'da'), ('circunscripción', 'nc'), ('de', 'sp'), ('Málaga', 'np'), ('tanto', 'rg'), ('en', 'sp'), ('las', 'da'), ('elecciones', 'nc'), ('generales', 'aq'), ('como', 'cs'), ('en', 'sp'), ('las', 'da'), ('autonómicas', 'aq'), ('y', 'cc'), ('en', 'sp'), ('el', 'da'), ('Senado', 'np'), (',', 'Fc'), ('hecho', 'nc'), ('que', 'pr'), ('*0*', 'sn'), ('achacó', 'vmi'), ('entre', 'sp'), ('otros', 'di'), ('factores', 'nc'), ('\"', 'Fe'), ('al', 'sp'), ('trabajo', 'nc'), ('de', 'sp'), ('los', 'da'), ('alcaldes', 'nc'), (',', 'Fc'), ('dando', 'vmg'), ('ejemplo', 'nc'), ('\"', 'Fe'), ('.', 'Fp')], [('Respecto_al', 'sp'), ('resultado', 'nc'), ('de', 'sp'), ('las', 'da'), ('elecciones', 'nc'), ('autonómicas', 'aq'), (',', 'Fc'), ('Villalobos', 'np'), ('señaló', 'vmi'), ('que', 'cs'), ('*0*', 'sn'), ('demuestra', 'vmi'), ('que', 'cs'), ('\"', 'Fe'), ('Andalucía', 'np'), ('no', 'rn'), ('es', 'vsi'), ('propiedad', 'nc'), ('del', 'sp'), ('PSOE', 'np'), (',', 'Fc'), ('*0*', 'sn'), ('es', 'vsi'), ('propiedad', 'nc'), ('de', 'sp'), ('los', 'da'), ('andaluces', 'aq'), ('\"', 'Fe'), ('.', 'Fp')], [('Por', 'sp'), ('su', 'dp'), ('parte', 'nc'), (',', 'Fc'), ('el', 'da'), ('número', 'nc'), ('2', 'Z'), ('en', 'sp'), ('la', 'da'), ('lista', 'nc'), ('al', 'sp'), ('Congreso_por_Málaga', 'np'), (',', 'Fc'), ('Manuel_Atencia', 'np'), (',', 'Fc'), ('tuvo', 'vmi'), ('un', 'di'), ('recuerdo', 'nc'), ('\"', 'Fe'), ('para', 'sp'), ('todos', 'di'), ('los', 'da'), ('que', 'pr'), ('durante', 'sp'), ('muchos', 'di'), ('años', 'nc'), ('han', 'vai'), ('anhelado', 'vmp'), ('una', 'di'), ('victoria', 'nc'), ('importante', 'aq'), ('como', 'cs'), ('la', 'da'), ('de', 'sp'), ('hoy', 'rg'), ('\"', 'Fe'), ('y', 'cc'), ('para', 'sp'), ('los', 'da'), ('militantes', 'nc'), ('del', 'sp'), ('partido', 'nc'), (',', 'Fc'), ('\"', 'Fe'), ('que', 'pr'), ('habéis', 'vai'), ('hecho', 'vmp'), ('posible', 'aq'), ('este', 'dd'), ('proyecto', 'nc'), ('mayoritario', 'aq'), ('y', 'cc'), ('de', 'sp'), ('gobierno', 'nc'), ('\"', 'Fe'), ('.', 'Fp')], [('Atencia', 'np'), ('calificó', 'vmi'), ('de', 'sp'), ('\"', 'Fe'), ('históricos', 'aq'), ('\"', 'Fe'), ('los', 'da'), ('resultados', 'nc'), ('en', 'sp'), ('la', 'da'), ('provincia', 'nc'), ('con', 'sp'), ('la', 'da'), ('\"', 'Fe'), ('triple', 'dn'), ('victoria', 'nc'), ('\"', 'Fe'), ('en', 'sp'), ('Congreso', 'np'), (',', 'Fc'), ('Senado', 'np'), ('y', 'cc'), ('Parlamento', 'np'), ('andaluz', 'aq'), (',', 'Fc'), ('y', 'cc'), ('*0*', 'sn'), ('ofreció', 'vmi'), ('la', 'da'), ('victoria', 'nc'), ('a', 'sp'), ('Aznar', 'np'), ('.', 'Fp')], [('La', 'da'), ('Comisión_Europea', 'np'), ('anunció', 'vmi'), ('hoy', 'rg'), (',', 'Fc'), ('martes', 'W'), (',', 'Fc'), ('que', 'cs'), ('*0*', 'sn'), ('ha', 'vai'), ('recibido', 'vmp'), ('la', 'da'), ('notificación', 'nc'), ('de', 'sp'), ('un', 'di'), ('proyecto', 'nc'), ('de', 'sp'), ('concentración', 'nc'), ('por', 'sp'), ('el', 'da'), ('cual', 'pr'), ('Stet_International_Netherlands', 'np'), ('-Fpa-', 'Fpa'), ('SIN', 'np'), ('-Fpt-', 'Fpt'), (',', 'Fc'), ('Endesa_Telecomunicaciones', 'np'), ('-Fpa-', 'Fpa'), ('ET', 'np'), ('-Fpt-', 'Fpt'), ('y', 'cc'), ('Unión_Fenosa_Inversiones', 'np'), ('-Fpa-', 'Fpa'), ('UFINSA', 'np'), ('-Fpt-', 'Fpt'), ('adquieren', 'vmi'), ('el', 'da'), ('control', 'nc'), ('común', 'aq'), ('de', 'sp'), ('varias', 'di'), ('empresas', 'nc'), ('españolas', 'aq'), ('de', 'sp'), ('cable', 'nc'), ('.', 'Fp')], [('SIN', 'np'), (',', 'Fc'), ('ET', 'np'), ('y', 'cc'), ('UFINSA', 'np'), ('adquieren', 'vmi'), ('mediante', 'sp'), ('esta', 'dd'), ('operación', 'nc'), ('el', 'da'), ('control', 'nc'), ('en_común', 'rg'), ('de', 'sp'), ('Aragón_de_Cable', 'np'), (',', 'Fc'), ('Cablelteca', 'np'), (',', 'Fc'), ('Supercable_Andalucía', 'np'), (',', 'Fc'), ('Supercable_Sevilla', 'np'), ('y', 'cc'), ('Supercable_Almería', 'np'), ('mediante', 'sp'), ('un', 'di'), ('contrato', 'nc'), ('de', 'sp'), ('gestión', 'nc'), ('y', 'cc'), ('de', 'sp'), ('transferencia', 'nc'), ('de', 'sp'), ('acciones', 'nc'), ('a', 'sp'), ('AUNA', 'np'), (',', 'Fc'), ('una', 'di'), ('sociedad', 'nc'), ('\"', 'Fe'), ('holding', 'nc'), ('\"', 'Fe'), ('creada', 'aq'), ('para', 'sp'), ('este', 'dd'), ('fin', 'nc'), ('.', 'Fp')], [('Stet_International_Netherlands', 'np'), ('-Fpa-', 'Fpa'), ('SIN', 'np'), ('-Fpt-', 'Fpt'), (',', 'Fc'), ('que', 'pr'), ('pertenece', 'vmi'), ('al', 'sp'), ('grupo', 'nc'), ('italiano', 'aq'), ('Telecom_Italia', 'np'), (',', 'Fc'), ('es', 'vsi'), ('una', 'di'), ('empresa', 'nc'), ('que', 'pr'), ('presta', 'vmi'), ('servicios', 'nc'), ('de', 'sp'), ('telecomunicaciones', 'nc'), ('.', 'Fp')], [('Endesa_Telecomunicaciones', 'np'), ('-Fpa-', 'Fpa'), ('ET', 'np'), ('-Fpt-', 'Fpt'), (',', 'Fc'), ('que', 'pr'), ('pertenece', 'vmi'), ('al', 'sp'), ('grupo', 'nc'), ('español', 'aq'), ('Endesa', 'np'), (',', 'Fc'), ('ofrece', 'vmi'), ('sus', 'dp'), ('servicios', 'nc'), ('de', 'sp'), ('telecomunicaciones', 'nc'), ('en', 'sp'), ('España', 'np'), ('.', 'Fp')], [('Unión_Fenosa_Inversiones', 'np'), ('-Fpa-', 'Fpa'), ('UFINSA', 'np'), ('-Fpt-', 'Fpt'), ('es', 'vsi'), ('una', 'di'), ('empresa', 'nc'), ('del', 'sp'), ('grupo', 'nc'), ('español', 'aq'), ('Unión_Fenosa', 'np'), ('que', 'pr'), ('ofrece', 'vmi'), ('servicios', 'nc'), ('de', 'sp'), ('asesoría', 'nc'), (',', 'Fc'), ('ingeniería', 'nc'), (',', 'Fc'), ('telecomunicaciones', 'nc'), (',', 'Fc'), ('industria', 'nc'), (',', 'Fc'), ('explotación', 'nc'), ('de', 'sp'), ('minas', 'nc'), ('e', 'cc'), ('inmobiliaria', 'nc'), ('.', 'Fp')], [('Aragón_de_Cable', 'np'), (',', 'Fc'), ('Cablelteca', 'np'), (',', 'Fc'), ('Supercable_Andalucía', 'np'), (',', 'Fc'), ('Supercable_Sevilla', 'np'), ('y', 'cc'), ('Supercable_Almería', 'np'), ('son', 'vsi'), ('empresas', 'nc'), ('de', 'sp'), ('telecomunicaciones', 'nc'), ('españolas', 'aq'), ('que', 'pr'), ('ofrecen', 'vmi'), ('servicios', 'nc'), ('de', 'sp'), ('cable', 'nc'), ('en', 'sp'), ('Aragón', 'np'), (',', 'Fc'), ('Islas_Canarias', 'np'), (',', 'Fc'), ('Andalucía', 'np'), (',', 'Fc'), ('Sevilla', 'np'), ('y', 'cc'), ('Almería', 'np'), ('respectivamente', 'rg'), ('.', 'Fp')]]\n"
     ]
    }
   ],
   "source": [
    "print(newsentences[:20])"
   ]
  },
  {
   "cell_type": "markdown",
   "id": "431fb3dd",
   "metadata": {},
   "source": [
    "2. Uso de etiquetadores morfosintácticos (usar los modelos hmm y tnt). \n",
    "\n",
    "    • Saber entrenar el etiquetador con la partición de entrenamiento previamente \n",
    "    transformada \n",
    "    \n",
    "    • Saber etiquetar un conjunto de test con el modelo aprendido \n",
    "    \n",
    "    • Evaluar las prestaciones de un etiquetador   \n",
    "    \n",
    "\n",
    "3. Hacer una evaluación de las prestaciones de etiquetado usando todo el corpus (10-fold cross validation). Se propone hacer las 10 particiones usando el corpus reducido en el orden original y barajándolo (sugerencia: se puede usar el método shuffle importándolo del módulo random “from random import shuffle”). Comprobar si al barajar el corpus se observan diferencias en los resultados de cada partición"
   ]
  },
  {
   "cell_type": "markdown",
   "id": "5e687430",
   "metadata": {},
   "source": [
    "### HMM"
   ]
  },
  {
   "cell_type": "markdown",
   "id": "34699471",
   "metadata": {},
   "source": [
    "#### Entrenamos un HMM "
   ]
  },
  {
   "cell_type": "code",
   "execution_count": 7,
   "id": "ae73a86f",
   "metadata": {},
   "outputs": [],
   "source": [
    "from sklearn.model_selection import train_test_split\n",
    "from nltk.tag import hmm\n",
    "\n",
    "def hmm_model(data, s=False): \n",
    "    # dividir conjunto de entrenamiento: 90% train, 10% test\n",
    "    train,test= train_test_split(data,test_size=0.1, random_state=1234, shuffle=s) # train test split tiene un shuffle default\n",
    "    tagger_hmm=hmm.HiddenMarkovModelTagger.train(train) # le pasamos la lista de listas para entrenar\n",
    "    acc=tagger_hmm.accuracy(test)\n",
    "\n",
    "    return acc"
   ]
  },
  {
   "cell_type": "code",
   "execution_count": 8,
   "id": "34173029",
   "metadata": {},
   "outputs": [
    {
     "name": "stdout",
     "output_type": "stream",
     "text": [
      "Accuracy del tagger HMM para el conjunto de datos original: 0.8895248998282771\n",
      "\n",
      "Accuracy del tagger HMM para el conjunto de datos barajado: 0.925679983000425\n"
     ]
    }
   ],
   "source": [
    "print(\"Accuracy del tagger HMM para el conjunto de datos original:\", hmm_model(newsentences, False))\n",
    "print()\n",
    "print(\"Accuracy del tagger HMM para el conjunto de datos barajado:\", hmm_model(newsentences, True))"
   ]
  },
  {
   "cell_type": "markdown",
   "id": "27438f8b",
   "metadata": {},
   "source": [
    "A la vista de los resultados obtenidos, podemos observar que cuando se barajan los datos el accuracy general es mayor."
   ]
  },
  {
   "cell_type": "markdown",
   "id": "224764f9",
   "metadata": {},
   "source": [
    "#### Realizamos un 10-Fold"
   ]
  },
  {
   "cell_type": "code",
   "execution_count": 9,
   "id": "53586fcb",
   "metadata": {},
   "outputs": [],
   "source": [
    "import numpy as np \n",
    "from sklearn.model_selection import KFold \n",
    "\n",
    "def KFold_hmm(data, folds, s=False):\n",
    "    newsentences=np.asarray(data) \n",
    "    kf=KFold(n_splits=folds, shuffle=s) # shuffle default=False\n",
    "    scores=[]\n",
    "    longitudes=[]\n",
    "    for train_index, test_index in kf.split(newsentences): \n",
    "        x_train,x_test = newsentences[train_index],newsentences[test_index]  \n",
    "        longitudes.append(len(x_test))\n",
    "        tagger_hmm=hmm.HiddenMarkovModelTagger.train(x_train)  \n",
    "        result=tagger_hmm.accuracy(x_test) \n",
    "        scores.append(result)\n",
    "       \n",
    "    return scores,longitudes"
   ]
  },
  {
   "cell_type": "code",
   "execution_count": 10,
   "id": "96e5baaa",
   "metadata": {
    "scrolled": false
   },
   "outputs": [
    {
     "name": "stderr",
     "output_type": "stream",
     "text": [
      "C:\\Users\\annal\\AppData\\Local\\Temp\\ipykernel_23348\\1255201757.py:5: VisibleDeprecationWarning: Creating an ndarray from ragged nested sequences (which is a list-or-tuple of lists-or-tuples-or ndarrays with different lengths or shapes) is deprecated. If you meant to do this, you must specify 'dtype=object' when creating the ndarray.\n",
      "  newsentences=np.asarray(data)\n"
     ]
    },
    {
     "name": "stdout",
     "output_type": "stream",
     "text": [
      "Accuracy del HMM para los datos originales: 0.9302101576182137\n",
      "Accuracy del HMM para los datos originales: 0.9267685744756488\n",
      "Accuracy del HMM para los datos originales: 0.9249848497965544\n",
      "Accuracy del HMM para los datos originales: 0.9277964181445815\n",
      "Accuracy del HMM para los datos originales: 0.9262966333030027\n",
      "Accuracy del HMM para los datos originales: 0.887008175779254\n",
      "Accuracy del HMM para los datos originales: 0.8922758620689655\n",
      "Accuracy del HMM para los datos originales: 0.8929549560048948\n",
      "Accuracy del HMM para los datos originales: 0.8968024114900408\n",
      "Accuracy del HMM para los datos originales: 0.8895248998282771\n"
     ]
    }
   ],
   "source": [
    "s, l=KFold_hmm(newsentences, 10, s=False)\n",
    "for i in s: print('Accuracy del HMM para los datos originales:', i)"
   ]
  },
  {
   "cell_type": "code",
   "execution_count": 11,
   "id": "f6ef9895",
   "metadata": {},
   "outputs": [
    {
     "name": "stderr",
     "output_type": "stream",
     "text": [
      "C:\\Users\\annal\\AppData\\Local\\Temp\\ipykernel_23348\\1255201757.py:5: VisibleDeprecationWarning: Creating an ndarray from ragged nested sequences (which is a list-or-tuple of lists-or-tuples-or ndarrays with different lengths or shapes) is deprecated. If you meant to do this, you must specify 'dtype=object' when creating the ndarray.\n",
      "  newsentences=np.asarray(data)\n"
     ]
    },
    {
     "name": "stdout",
     "output_type": "stream",
     "text": [
      "Accuracy del HMM para los datos originales: 0.9244302069110387\n",
      "Accuracy del HMM para los datos originales: 0.9306157849089333\n",
      "Accuracy del HMM para los datos originales: 0.9276447632106318\n",
      "Accuracy del HMM para los datos originales: 0.9238867249184125\n",
      "Accuracy del HMM para los datos originales: 0.9295266397792401\n",
      "Accuracy del HMM para los datos originales: 0.9301116772168185\n",
      "Accuracy del HMM para los datos originales: 0.9300994275384152\n",
      "Accuracy del HMM para los datos originales: 0.9327835051546391\n",
      "Accuracy del HMM para los datos originales: 0.9307266009852216\n",
      "Accuracy del HMM para los datos originales: 0.9284962643375776\n"
     ]
    }
   ],
   "source": [
    "s, l=KFold_hmm(newsentences, 10, s=True)\n",
    "for i in s: print('Accuracy del HMM para los datos originales:', i)"
   ]
  },
  {
   "cell_type": "markdown",
   "id": "dee50c26",
   "metadata": {},
   "source": [
    "#### Visualizamos los accuracy obtenidos con el 10-Fold de HMM "
   ]
  },
  {
   "cell_type": "code",
   "execution_count": 12,
   "id": "53648a6c",
   "metadata": {},
   "outputs": [],
   "source": [
    "from math import sqrt\n",
    "\n",
    "def ic(N,acc):\n",
    "    \n",
    "    return 1.96*sqrt(acc*(1-acc)/N)"
   ]
  },
  {
   "cell_type": "code",
   "execution_count": 13,
   "id": "42d3b2e6",
   "metadata": {},
   "outputs": [],
   "source": [
    "import matplotlib.pyplot as plt\n",
    "\n",
    "def hmm_chart(folds,s, text='for original data'):\n",
    "    x=[i for i in range(folds)] \n",
    "    y,longitudes=s\n",
    "    ic95=[ic(l[i],y[i]) for i in range(0,len(longitudes))]\n",
    "    plt.axis([-1,10, min(y)-0.1, max(y)+0.1])#([-1,10, min(scores)-0.1, max(scores)+0.1]) \n",
    "    plt.ylabel('Accuracy') \n",
    "    plt.xlabel('Fold') \n",
    "    plt.title(f'{folds}-fold cross validation {text}')\n",
    "    plt.errorbar(x,y,yerr=ic95,linestyle='None')\n",
    "    plt.plot(x,y,'ro') \n",
    "    plt.show()"
   ]
  },
  {
   "cell_type": "code",
   "execution_count": 14,
   "id": "32fa6a84",
   "metadata": {},
   "outputs": [
    {
     "name": "stderr",
     "output_type": "stream",
     "text": [
      "C:\\Users\\annal\\AppData\\Local\\Temp\\ipykernel_23348\\1255201757.py:5: VisibleDeprecationWarning: Creating an ndarray from ragged nested sequences (which is a list-or-tuple of lists-or-tuples-or ndarrays with different lengths or shapes) is deprecated. If you meant to do this, you must specify 'dtype=object' when creating the ndarray.\n",
      "  newsentences=np.asarray(data)\n"
     ]
    },
    {
     "data": {
      "image/png": "[encoded data removed]",
      "text/plain": [
       "<Figure size 640x480 with 1 Axes>"
      ]
     },
     "metadata": {},
     "output_type": "display_data"
    }
   ],
   "source": [
    "hmm_chart(10,KFold_hmm(newsentences, 10, s=False))"
   ]
  },
  {
   "cell_type": "code",
   "execution_count": 15,
   "id": "c9880936",
   "metadata": {},
   "outputs": [
    {
     "name": "stderr",
     "output_type": "stream",
     "text": [
      "C:\\Users\\annal\\AppData\\Local\\Temp\\ipykernel_23348\\1255201757.py:5: VisibleDeprecationWarning: Creating an ndarray from ragged nested sequences (which is a list-or-tuple of lists-or-tuples-or ndarrays with different lengths or shapes) is deprecated. If you meant to do this, you must specify 'dtype=object' when creating the ndarray.\n",
      "  newsentences=np.asarray(data)\n"
     ]
    },
    {
     "data": {
      "image/png": "[encoded data removed]",
      "text/plain": [
       "<Figure size 640x480 with 1 Axes>"
      ]
     },
     "metadata": {},
     "output_type": "display_data"
    }
   ],
   "source": [
    "hmm_chart(10,KFold_hmm(newsentences, 10, s=True), text='for shuffled data')"
   ]
  },
  {
   "cell_type": "markdown",
   "id": "1ab691d6",
   "metadata": {},
   "source": [
    "### TNT "
   ]
  },
  {
   "cell_type": "markdown",
   "id": "0925709c",
   "metadata": {},
   "source": [
    "#### Entrenamos un TNT y realizamos un 10-Fold"
   ]
  },
  {
   "cell_type": "code",
   "execution_count": 16,
   "id": "8b03357a",
   "metadata": {},
   "outputs": [],
   "source": [
    "from nltk.tag import tnt\n",
    "\n",
    "def tnt_model(data, s=False): \n",
    "    # dividir conjunto de entrenamiento: 90% train, 10% test\n",
    "    train,test= train_test_split(data,test_size=0.1, random_state=1234, shuffle=s) # train test split tiene un shuffle default\n",
    "    \n",
    "    tagger_tnt = tnt.TnT()\n",
    "    tagger_tnt.train(train)  \n",
    "    acc = tagger_tnt.evaluate(test)\n",
    "    return acc"
   ]
  },
  {
   "cell_type": "code",
   "execution_count": 18,
   "id": "d787d34b",
   "metadata": {},
   "outputs": [
    {
     "name": "stderr",
     "output_type": "stream",
     "text": [
      "C:\\Users\\annal\\AppData\\Local\\Temp\\ipykernel_23348\\441924186.py:9: DeprecationWarning: \n",
      "  Function evaluate() has been deprecated.  Use accuracy(gold)\n",
      "  instead.\n",
      "  acc = tagger_tnt.evaluate(test)\n"
     ]
    },
    {
     "name": "stdout",
     "output_type": "stream",
     "text": [
      "Accuracy del tagger TNT para el conjunto de datos original: 0.8334287349742415\n",
      "\n",
      "Accuracy del tagger TNT para el conjunto de datos barajado: 0.9007118572035699\n"
     ]
    }
   ],
   "source": [
    "print(\"Accuracy del tagger TNT para el conjunto de datos original:\", tnt_model(newsentences, False))\n",
    "print()\n",
    "print(\"Accuracy del tagger TNT para el conjunto de datos barajado:\", tnt_model(newsentences, True))"
   ]
  },
  {
   "cell_type": "markdown",
   "id": "dc0bae08",
   "metadata": {},
   "source": [
    "#### Realizamos un 10-Fold"
   ]
  },
  {
   "cell_type": "code",
   "execution_count": 23,
   "id": "7a09414b",
   "metadata": {},
   "outputs": [],
   "source": [
    "import numpy as np \n",
    "from sklearn.model_selection import KFold \n",
    "\n",
    "def KFold_tnt(data, folds, s=False):\n",
    "    newsentences=np.asarray(data) \n",
    "    kf=KFold(n_splits=folds, shuffle=s) # shuffle default=False\n",
    "    scores=[] \n",
    "    longitudes=[]\n",
    "\n",
    "    for train_index, test_index in kf.split(newsentences):   \n",
    "        x_train,x_test = newsentences[train_index],newsentences[test_index] \n",
    "        longitudes.append(len(x_test))\n",
    "        tagger_tnt = tnt.TnT()\n",
    "        tagger_tnt.train(x_train)  \n",
    "        result = tagger_tnt.accuracy(x_test)  \n",
    "        scores.append(result)\n",
    "    \n",
    "    return scores,longitudes"
   ]
  },
  {
   "cell_type": "code",
   "execution_count": 24,
   "id": "0d4f735a",
   "metadata": {},
   "outputs": [
    {
     "name": "stderr",
     "output_type": "stream",
     "text": [
      "C:\\Users\\annal\\AppData\\Local\\Temp\\ipykernel_23348\\3731886836.py:5: VisibleDeprecationWarning: Creating an ndarray from ragged nested sequences (which is a list-or-tuple of lists-or-tuples-or ndarrays with different lengths or shapes) is deprecated. If you meant to do this, you must specify 'dtype=object' when creating the ndarray.\n",
      "  newsentences=np.asarray(data)\n"
     ]
    },
    {
     "name": "stdout",
     "output_type": "stream",
     "text": [
      "Accuracy del TNT para los datos originales: 0.8980735551663748\n",
      "Accuracy del TNT para los datos originales: 0.8908638464273018\n",
      "Accuracy del TNT para los datos originales: 0.8886676478226994\n",
      "Accuracy del TNT para los datos originales: 0.8923700379101486\n",
      "Accuracy del TNT para los datos originales: 0.8951860999176741\n",
      "Accuracy del TNT para los datos originales: 0.8444685743484925\n",
      "Accuracy del TNT para los datos originales: 0.8622758620689656\n",
      "Accuracy del TNT para los datos originales: 0.8521065205990327\n",
      "Accuracy del TNT para los datos originales: 0.862639635912288\n",
      "Accuracy del TNT para los datos originales: 0.8334287349742415\n"
     ]
    }
   ],
   "source": [
    "s,l=KFold_tnt(newsentences, 10, s=False)\n",
    "for i in s: print('Accuracy del TNT para los datos originales:', i)"
   ]
  },
  {
   "cell_type": "code",
   "execution_count": 25,
   "id": "e100ccef",
   "metadata": {},
   "outputs": [
    {
     "name": "stderr",
     "output_type": "stream",
     "text": [
      "C:\\Users\\annal\\AppData\\Local\\Temp\\ipykernel_23348\\3731886836.py:5: VisibleDeprecationWarning: Creating an ndarray from ragged nested sequences (which is a list-or-tuple of lists-or-tuples-or ndarrays with different lengths or shapes) is deprecated. If you meant to do this, you must specify 'dtype=object' when creating the ndarray.\n",
      "  newsentences=np.asarray(data)\n"
     ]
    },
    {
     "name": "stdout",
     "output_type": "stream",
     "text": [
      "Accuracy del TNT para los datos originales: 0.9016485766946549\n",
      "Accuracy del TNT para los datos originales: 0.9036299886562854\n",
      "Accuracy del TNT para los datos originales: 0.9067977555985898\n",
      "Accuracy del TNT para los datos originales: 0.9021168231736432\n",
      "Accuracy del TNT para los datos originales: 0.9049194902696829\n",
      "Accuracy del TNT para los datos originales: 0.9020482325735051\n",
      "Accuracy del TNT para los datos originales: 0.9004604143729357\n",
      "Accuracy del TNT para los datos originales: 0.90804842924956\n",
      "Accuracy del TNT para los datos originales: 0.9050790127371703\n",
      "Accuracy del TNT para los datos originales: 0.9037516032492519\n"
     ]
    }
   ],
   "source": [
    "s,l=KFold_tnt(newsentences, 10, s=True)\n",
    "for i in s: print('Accuracy del TNT para los datos originales:', i)"
   ]
  },
  {
   "cell_type": "markdown",
   "id": "c36125d7",
   "metadata": {},
   "source": [
    "#### Visualizamos el resultado del 10-Fold del TNT"
   ]
  },
  {
   "cell_type": "code",
   "execution_count": 26,
   "id": "133bf607",
   "metadata": {},
   "outputs": [],
   "source": [
    "import matplotlib.pyplot as plt\n",
    "\n",
    "def tnt_chart(folds,s, text='for original data'):\n",
    "    x=[i for i in range(folds)] \n",
    "    y,longitudes=s\n",
    "    ic95=[ic(l[i],y[i]) for i in range(0,len(longitudes))]\n",
    "    plt.axis([-1,10, min(y)-0.1, max(y)+0.1])#([-1,10, min(scores)-0.1, max(scores)+0.1]) \n",
    "    plt.ylabel('Accuracy') \n",
    "    plt.xlabel('Fold') \n",
    "    plt.title(f'{folds}-fold cross validation {text}')\n",
    "    plt.errorbar(x,y,yerr=ic95,linestyle='None')\n",
    "    plt.plot(x,y,'ro') \n",
    "    plt.show()"
   ]
  },
  {
   "cell_type": "code",
   "execution_count": 27,
   "id": "561f2df1",
   "metadata": {},
   "outputs": [
    {
     "name": "stderr",
     "output_type": "stream",
     "text": [
      "C:\\Users\\annal\\AppData\\Local\\Temp\\ipykernel_23348\\3731886836.py:5: VisibleDeprecationWarning: Creating an ndarray from ragged nested sequences (which is a list-or-tuple of lists-or-tuples-or ndarrays with different lengths or shapes) is deprecated. If you meant to do this, you must specify 'dtype=object' when creating the ndarray.\n",
      "  newsentences=np.asarray(data)\n"
     ]
    },
    {
     "data": {
      "image/png": "[encoded data removed]",
      "text/plain": [
       "<Figure size 640x480 with 1 Axes>"
      ]
     },
     "metadata": {},
     "output_type": "display_data"
    }
   ],
   "source": [
    "hmm_chart(10,KFold_tnt(newsentences, 10, s=False))"
   ]
  },
  {
   "cell_type": "code",
   "execution_count": 28,
   "id": "4632542f",
   "metadata": {},
   "outputs": [
    {
     "name": "stderr",
     "output_type": "stream",
     "text": [
      "C:\\Users\\annal\\AppData\\Local\\Temp\\ipykernel_23348\\3731886836.py:5: VisibleDeprecationWarning: Creating an ndarray from ragged nested sequences (which is a list-or-tuple of lists-or-tuples-or ndarrays with different lengths or shapes) is deprecated. If you meant to do this, you must specify 'dtype=object' when creating the ndarray.\n",
      "  newsentences=np.asarray(data)\n"
     ]
    },
    {
     "data": {
      "image/png": "[encoded data removed]",
      "text/plain": [
       "<Figure size 640x480 with 1 Axes>"
      ]
     },
     "metadata": {},
     "output_type": "display_data"
    }
   ],
   "source": [
    "hmm_chart(10,KFold_tnt(newsentences, 10, s=True), text='for shuffled data')"
   ]
  },
  {
   "cell_type": "markdown",
   "id": "63f0b990",
   "metadata": {},
   "source": [
    "### Conclusiones"
   ]
  },
  {
   "cell_type": "markdown",
   "id": "269564db",
   "metadata": {},
   "source": [
    "- A la vista de los resultados obtenidos, para ambos etiquetadores se obtienen mejores resultados barajando el conjunto de datos de manera general.\n",
    "\n",
    "\n",
    "- Además se observan diferencias en cuanto al rendimiento de los clasificadores ya que HMM obtiene mejores resultados, tanto con datos barajados como con los datos sin barajar respecto a TNT. \n",
    "\n",
    "- Por último, respecto a los resultados para cada fold en el conjunto de datos barajado, para ambos clasificadores, no se observa mucha diferencia entre los accuracy de los diferentes folds. Sin embargo, en los datos originales, también en ambos clasificadores, sí se observan diferencias entre los resultados de cada fold donde los primeros 5 folds tienen unos resultado de accuracy ligeramente mayores que los otros 5 restantes cuyo accuracy es menor.\n",
    "\n"
   ]
  }
 ],
 "metadata": {
  "kernelspec": {
   "display_name": "Python 3 (ipykernel)",
   "language": "python",
   "name": "python3"
  },
  "language_info": {
   "codemirror_mode": {
    "name": "ipython",
    "version": 3
   },
   "file_extension": ".py",
   "mimetype": "text/x-python",
   "name": "python",
   "nbconvert_exporter": "python",
   "pygments_lexer": "ipython3",
   "version": "3.10.9"
  }
 },
 "nbformat": 4,
 "nbformat_minor": 5
}
