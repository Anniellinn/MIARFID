{
 "cells": [
  {
   "cell_type": "markdown",
   "id": "60230d53",
   "metadata": {},
   "source": [
    "## Ejercicio 2: Python y NLTK. POS tagging"
   ]
  },
  {
   "cell_type": "markdown",
   "id": "db3c0645",
   "metadata": {},
   "source": [
    "Objetivo: Uso de NLTK y Python. Procesamiento de corpus, POS tagging.\n",
    "Referencias: \n",
    "http://www.nltk.org/\n",
    "http://www.python.org/ \n",
    "1. Procesamiento del corpus cess_esp anotado con información morfosintáctica.\n",
    "\n",
    "        • Descargar corpus usando NLTK.\n",
    "        • Procesar el corpus para transformar la anotación de las etiquetas originales \n",
    "        (289 etiquetas) a un conjunto reducido (66 etiquetas). Para realizar esta \n",
    "        transformación utilizar los siguientes criterios: todas las etiquetas serán de \n",
    "        longitud igual a 2 por defecto, salvo los verbos (v) y los signos de puntuación \n",
    "        (F) que pueden ser de tres. También pueden existir etiquetas de longitud =1. \n",
    "        En el conjunto transformado también se deben eliminar anotaciones de la \n",
    "        forma: (u'*0*', u'sn'). \n",
    "        • Nota: para entender el significado de las etiquetas se puede consultar el \n",
    "        siguiente enlace: \n",
    "        https://freeling-user-manual.readthedocs.io/en/latest/tagsets/\n",
    "        • Dividir el corpus en dos partes: training (el 90% de las primeras frases) y de \n",
    "        test (el 10% restante)"
   ]
  },
  {
   "cell_type": "markdown",
   "id": "55eee5b7",
   "metadata": {},
   "source": [
    "### Carga del corpus"
   ]
  },
  {
   "cell_type": "code",
   "execution_count": 1,
   "id": "a3a7a695",
   "metadata": {},
   "outputs": [],
   "source": [
    "import nltk "
   ]
  },
  {
   "cell_type": "code",
   "execution_count": 2,
   "id": "a1083a7d",
   "metadata": {},
   "outputs": [],
   "source": [
    "from nltk.corpus import cess_esp"
   ]
  },
  {
   "cell_type": "markdown",
   "id": "13f375b5",
   "metadata": {},
   "source": [
    "#### Transformar la anotación de las etiquetas originales (289 etiquetas) a un conjunto reducido (66 etiquetas)"
   ]
  },
  {
   "cell_type": "code",
   "execution_count": 3,
   "id": "8d85b62b",
   "metadata": {},
   "outputs": [
    {
     "name": "stdout",
     "output_type": "stream",
     "text": [
      "Número de frases: 6030\n",
      "Número de palabras: 192686\n",
      "[[('El', 'da0ms0'), ('grupo', 'ncms000'), ('estatal', 'aq0cs0'), ('Electricité_de_France', 'np00000'), ('-Fpa-', 'Fpa'), ('EDF', 'np00000'), ('-Fpt-', 'Fpt'), ('anunció', 'vmis3s0'), ('hoy', 'rg'), (',', 'Fc'), ('jueves', 'W'), (',', 'Fc'), ('la', 'da0fs0'), ('compra', 'ncfs000'), ('del', 'spcms'), ('51_por_ciento', 'Zp'), ('de', 'sps00'), ('la', 'da0fs0'), ('empresa', 'ncfs000'), ('mexicana', 'aq0fs0'), ('Electricidad_Águila_de_Altamira', 'np00000'), ('-Fpa-', 'Fpa'), ('EAA', 'np00000'), ('-Fpt-', 'Fpt'), (',', 'Fc'), ('creada', 'aq0fsp'), ('por', 'sps00'), ('el', 'da0ms0'), ('japonés', 'aq0ms0'), ('Mitsubishi_Corporation', 'np00000'), ('para', 'sps00'), ('poner_en_marcha', 'vmn0000'), ('una', 'di0fs0'), ('central', 'ncfs000'), ('de', 'sps00'), ('gas', 'ncms000'), ('de', 'sps00'), ('495', 'Z'), ('megavatios', 'ncmp000'), ('.', 'Fp')], [('Una', 'di0fs0'), ('portavoz', 'nccs000'), ('de', 'sps00'), ('EDF', 'np00000'), ('explicó', 'vmis3s0'), ('a', 'sps00'), ('EFE', 'np00000'), ('que', 'cs'), ('el', 'da0ms0'), ('proyecto', 'ncms000'), ('para', 'sps00'), ('la', 'da0fs0'), ('construcción', 'ncfs000'), ('de', 'sps00'), ('Altamira_2', 'np00000'), (',', 'Fc'), ('al', 'spcms'), ('norte', 'ncms000'), ('de', 'sps00'), ('Tampico', 'np00000'), (',', 'Fc'), ('prevé', 'vmm02s0'), ('la', 'da0fs0'), ('utilización', 'ncfs000'), ('de', 'sps00'), ('gas', 'ncms000'), ('natural', 'aq0cs0'), ('como', 'cs'), ('combustible', 'ncms000'), ('principal', 'aq0cs0'), ('en', 'sps00'), ('una', 'di0fs0'), ('central', 'ncfs000'), ('de', 'sps00'), ('ciclo', 'ncms000'), ('combinado', 'aq0msp'), ('que', 'pr0cn000'), ('debe', 'vmip3s0'), ('empezar', 'vmn0000'), ('a', 'sps00'), ('funcionar', 'vmn0000'), ('en', 'sps00'), ('mayo_del_2002', 'W'), ('.', 'Fp')]]\n"
     ]
    }
   ],
   "source": [
    "corpus_sentences=cess_esp.tagged_sents() # extraemos las oraciones etiquetadas\n",
    "number_sentences=len(corpus_sentences)\n",
    "print ('Número de frases:',number_sentences)\n",
    "nw=0;\n",
    "for s in range (len(corpus_sentences)):\n",
    "    nw=nw+len(corpus_sentences[s])\n",
    "\n",
    "print ('Número de palabras:',nw)\n",
    "\n",
    "print(corpus_sentences[0:2]) # muestro las 2 primeras oraciones del corpus etiquetado"
   ]
  },
  {
   "cell_type": "code",
   "execution_count": 4,
   "id": "eb6940a5",
   "metadata": {},
   "outputs": [],
   "source": [
    "def rename(x):\n",
    "    if x.startswith(\"v\") or x.startswith(\"F\"): #Si la etiqueta es de un verbo o signo de\n",
    "        return x[:min(len(x),3)] #longitud máxima puede ser 3\n",
    "    \n",
    "    else: #Cualquier otra etiqueta long max\n",
    "        return x[:min(len(x),2)] # por defecto, para lo demás la long máx es 2"
   ]
  },
  {
   "cell_type": "code",
   "execution_count": 5,
   "id": "d2c41a45",
   "metadata": {},
   "outputs": [],
   "source": [
    "newsentences=[]\n",
    "for sentence in corpus_sentences[:1000]:\n",
    "    newsent=[(x[0], rename(x[1])) for x in sentence if not(x[1] in (u'*0*',u'sn'))] # elimino este tipo de etiquetas porque directamente las omito\n",
    "    newsentences.append(newsent)"
   ]
  },
  {
   "cell_type": "code",
   "execution_count": 6,
   "id": "a5823131",
   "metadata": {
    "scrolled": false
   },
   "outputs": [],
   "source": [
    "#print(newsentences)"
   ]
  },
  {
   "cell_type": "markdown",
   "id": "431fb3dd",
   "metadata": {},
   "source": [
    "2. Uso de etiquetadores morfosintácticos (usar los modelos hmm y tnt). \n",
    "\n",
    "    • Saber entrenar el etiquetador con la partición de entrenamiento previamente \n",
    "    transformada \n",
    "    \n",
    "    • Saber etiquetar un conjunto de test con el modelo aprendido \n",
    "    \n",
    "    • Evaluar las prestaciones de un etiquetador \n",
    "    \n",
    "    \n",
    "    \n",
    "\n",
    "3. Hacer una evaluación de las prestaciones de etiquetado usando todo el corpus (10-fold cross validation). Se propone hacer las 10 particiones usando el corpus reducido en el orden original y barajándolo (sugerencia: se puede usar el método shuffle importándolo del módulo random “from random import shuffle”). Comprobar si al barajar el corpus se observan diferencias en los resultados de cada partición"
   ]
  },
  {
   "cell_type": "code",
   "execution_count": 7,
   "id": "3184ab30",
   "metadata": {},
   "outputs": [],
   "source": [
    "# dividir conjunto de entrenamiento: 90% train, 10% test\n",
    "\n",
    "from sklearn.model_selection import train_test_split\n",
    "train,test= train_test_split(newsentences,test_size=0.1, random_state=1234)"
   ]
  },
  {
   "cell_type": "markdown",
   "id": "34699471",
   "metadata": {},
   "source": [
    "#### Entrenamos un HMM y realizamos un 10-Fold"
   ]
  },
  {
   "cell_type": "code",
   "execution_count": 8,
   "id": "d342b32e",
   "metadata": {},
   "outputs": [
    {
     "name": "stdout",
     "output_type": "stream",
     "text": [
      "Accuracy del tagger HMM: 0.9047133757961784\n"
     ]
    }
   ],
   "source": [
    "from nltk.tag import hmm\n",
    "\n",
    "tagger_hmm=hmm.HiddenMarkovModelTagger.train(train) # le pasamos la lista de listas para entrenar\n",
    "acc=tagger_hmm.accuracy(test) #deprecated !!!! --> tagger_hmm.accuracy(test)\n",
    "\n",
    "print(\"Accuracy del tagger HMM:\", acc)\n",
    "\n",
    "#tagger_hmm.tag(words) #lista de listas de solo las palabras para ver como etiqueta"
   ]
  },
  {
   "cell_type": "code",
   "execution_count": 9,
   "id": "53586fcb",
   "metadata": {},
   "outputs": [
    {
     "name": "stderr",
     "output_type": "stream",
     "text": [
      "C:\\Users\\annal\\AppData\\Local\\Temp\\ipykernel_7904\\2847999710.py:4: VisibleDeprecationWarning: Creating an ndarray from ragged nested sequences (which is a list-or-tuple of lists-or-tuples-or ndarrays with different lengths or shapes) is deprecated. If you meant to do this, you must specify 'dtype=object' when creating the ndarray.\n",
      "  newsentences=np.asarray(newsentences)\n",
      "C:\\Users\\annal\\AppData\\Local\\Temp\\ipykernel_7904\\2847999710.py:10: DeprecationWarning: \n",
      "  Function evaluate() has been deprecated.  Use accuracy(gold)\n",
      "  instead.\n",
      "  result=tagger_hmm.evaluate(x_test)\n"
     ]
    },
    {
     "name": "stdout",
     "output_type": "stream",
     "text": [
      "Results quality: 0.8805013115709706\n",
      "Results quality: 0.8836833602584814\n",
      "Results quality: 0.8871781258295726\n",
      "Results quality: 0.8936011904761905\n",
      "Results quality: 0.875267094017094\n",
      "Results quality: 0.8810463968410661\n",
      "Results quality: 0.875\n",
      "Results quality: 0.8795799299883313\n",
      "Results quality: 0.8841601611684714\n",
      "Results quality: 0.8786301369863013\n"
     ]
    }
   ],
   "source": [
    "import numpy as np \n",
    "from sklearn.model_selection import KFold \n",
    "folds=10 \n",
    "newsentences=np.asarray(newsentences) \n",
    "kf=KFold(n_splits=folds) \n",
    "results=[] \n",
    "for train_index, test_index in kf.split(newsentences):   \n",
    "    x_train,x_test = newsentences[train_index],newsentences[test_index]  \n",
    "    tagger_hmm=hmm.HiddenMarkovModelTagger.train(x_train)  \n",
    "    result=tagger_hmm.evaluate(x_test) \n",
    "    print('Results quality:', result) \n",
    "    "
   ]
  },
  {
   "cell_type": "markdown",
   "id": "dee50c26",
   "metadata": {},
   "source": [
    "#### Visualizamos los accuracy obtenidos con el 10-Fold de HMM "
   ]
  },
  {
   "cell_type": "code",
   "execution_count": 10,
   "id": "326869c5",
   "metadata": {},
   "outputs": [
    {
     "name": "stdout",
     "output_type": "stream",
     "text": [
      "Accuracy HMM =  0.8805013115709706\n",
      "Accuracy HMM =  0.8836833602584814\n",
      "Accuracy HMM =  0.8871781258295726\n",
      "Accuracy HMM =  0.8936011904761905\n",
      "Accuracy HMM =  0.875267094017094\n",
      "Accuracy HMM =  0.8810463968410661\n",
      "Accuracy HMM =  0.875\n",
      "Accuracy HMM =  0.8795799299883313\n",
      "Accuracy HMM =  0.8841601611684714\n",
      "Accuracy HMM =  0.8786301369863013\n"
     ]
    }
   ],
   "source": [
    "import numpy as np \n",
    "from sklearn.model_selection import KFold \n",
    "folds=10 \n",
    "newsentences=np.asarray(newsentences) \n",
    "kf=KFold(n_splits=folds) \n",
    "scores=[] \n",
    "for train_index, test_index in kf.split(newsentences):   \n",
    "    x_train,x_test = newsentences[train_index],newsentences[test_index]  \n",
    "    tagger_hmm=hmm.HiddenMarkovModelTagger.train(x_train)\n",
    "    result=tagger_hmm.accuracy(x_test) \n",
    "    print('Accuracy HMM = ', result) \n",
    "    scores.append(result) \n"
   ]
  },
  {
   "cell_type": "code",
   "execution_count": 11,
   "id": "cec5fc74",
   "metadata": {},
   "outputs": [
    {
     "name": "stdout",
     "output_type": "stream",
     "text": [
      "0.005323700785784557\n"
     ]
    }
   ],
   "source": [
    "std_dev = np.std(scores)\n",
    "print(std_dev)"
   ]
  },
  {
   "cell_type": "code",
   "execution_count": 12,
   "id": "42d3b2e6",
   "metadata": {},
   "outputs": [
    {
     "data": {
      "image/png": "[encoded data removed]",
      "text/plain": [
       "<Figure size 640x480 with 1 Axes>"
      ]
     },
     "metadata": {},
     "output_type": "display_data"
    }
   ],
   "source": [
    "import matplotlib.pyplot as plt \n",
    "x=[i for i in range(folds)] \n",
    "y=scores \n",
    "plt.axis([-1,10, min(scores)-0.1, max(scores)+0.1]) \n",
    "plt.ylabel('Accuracy') \n",
    "plt.xlabel('Fold') \n",
    "plt.title(f'{folds}-fold cross validation') \n",
    "plt.errorbar(x,y,yerr=std_dev,linestyle='None')\n",
    "plt.plot(x,y,'ro') \n",
    "plt.show()"
   ]
  },
  {
   "cell_type": "markdown",
   "id": "0925709c",
   "metadata": {},
   "source": [
    "#### Entrenamos un TNT y realizamos un 10-Fold"
   ]
  },
  {
   "cell_type": "code",
   "execution_count": 13,
   "id": "7395d5b7",
   "metadata": {},
   "outputs": [
    {
     "name": "stderr",
     "output_type": "stream",
     "text": [
      "C:\\Users\\annal\\AppData\\Local\\Temp\\ipykernel_7904\\88274612.py:6: DeprecationWarning: \n",
      "  Function evaluate() has been deprecated.  Use accuracy(gold)\n",
      "  instead.\n",
      "  acc = tagger_tnt.evaluate(test)\n"
     ]
    },
    {
     "name": "stdout",
     "output_type": "stream",
     "text": [
      "Accuracy del tagger HMM: 0.8619108280254777\n"
     ]
    }
   ],
   "source": [
    "from nltk.tag import tnt\n",
    "\n",
    "tagger_tnt = tnt.TnT()\n",
    "tagger_tnt.train(train)  \n",
    "\n",
    "acc = tagger_tnt.evaluate(test) \n",
    "\n",
    "print(\"Accuracy del tagger HMM:\", acc)\n"
   ]
  },
  {
   "cell_type": "code",
   "execution_count": 14,
   "id": "23544768",
   "metadata": {},
   "outputs": [
    {
     "name": "stdout",
     "output_type": "stream",
     "text": [
      "Accuracy TNT = 0.8044301952783445\n",
      "Accuracy TNT = 0.8187937533656435\n",
      "Accuracy TNT = 0.8109901778603663\n",
      "Accuracy TNT = 0.839781746031746\n",
      "Accuracy TNT = 0.8175747863247863\n",
      "Accuracy TNT = 0.8116979269496545\n",
      "Accuracy TNT = 0.8130020080321285\n",
      "Accuracy TNT = 0.8277712952158693\n",
      "Accuracy TNT = 0.8030722739864015\n",
      "Accuracy TNT = 0.8076712328767123\n"
     ]
    }
   ],
   "source": [
    "import numpy as np \n",
    "from sklearn.model_selection import KFold \n",
    "folds=10 \n",
    "newsentences=np.asarray(newsentences) \n",
    "kf=KFold(n_splits=folds) \n",
    "scores=[] \n",
    "for train_index, test_index in kf.split(newsentences):   \n",
    "    x_train,x_test = newsentences[train_index],newsentences[test_index]  \n",
    "    tagger_tnt = tnt.TnT()\n",
    "    tagger_tnt.train(x_train)  \n",
    "    result = tagger_tnt.accuracy(x_test) \n",
    "    print('Accuracy TNT =', result) \n",
    "    scores.append(result) \n"
   ]
  },
  {
   "cell_type": "code",
   "execution_count": 15,
   "id": "6bab1093",
   "metadata": {},
   "outputs": [
    {
     "name": "stdout",
     "output_type": "stream",
     "text": [
      "0.010651993169635308\n"
     ]
    }
   ],
   "source": [
    "std_dev = np.std(scores)\n",
    "print(std_dev)"
   ]
  },
  {
   "cell_type": "markdown",
   "id": "c36125d7",
   "metadata": {},
   "source": [
    "#### Visualizamos el resultado del 10-Fold del TNT"
   ]
  },
  {
   "cell_type": "code",
   "execution_count": 16,
   "id": "133bf607",
   "metadata": {},
   "outputs": [
    {
     "data": {
      "image/png": "[encoded data removed]",
      "text/plain": [
       "<Figure size 640x480 with 1 Axes>"
      ]
     },
     "metadata": {},
     "output_type": "display_data"
    }
   ],
   "source": [
    "## preguntar como calcular los int de conf\n",
    "\n",
    "import matplotlib.pyplot as plt \n",
    "x=[i for i in range(folds)] \n",
    "y=scores \n",
    "plt.axis([-1,10, min(scores)-0.1, max(scores)+0.1]) \n",
    "plt.ylabel('Accuracy') \n",
    "plt.xlabel('Fold') \n",
    "plt.title(f'{folds}-fold cross validation') \n",
    "plt.errorbar(x,y,yerr=std_dev,linestyle='None')\n",
    "plt.plot(x,y,'ro') \n",
    "plt.show()"
   ]
  },
  {
   "cell_type": "markdown",
   "id": "08313cc1",
   "metadata": {},
   "source": [
    "## Con shuffle"
   ]
  }
 ],
 "metadata": {
  "kernelspec": {
   "display_name": "Python 3 (ipykernel)",
   "language": "python",
   "name": "python3"
  },
  "language_info": {
   "codemirror_mode": {
    "name": "ipython",
    "version": 3
   },
   "file_extension": ".py",
   "mimetype": "text/x-python",
   "name": "python",
   "nbconvert_exporter": "python",
   "pygments_lexer": "ipython3",
   "version": "3.10.9"
  }
 },
 "nbformat": 4,
 "nbformat_minor": 5
}
